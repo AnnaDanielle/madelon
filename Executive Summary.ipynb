{
 "cells": [
  {
   "cell_type": "markdown",
   "metadata": {},
   "source": [
    "## Executive Summary"
   ]
  },
  {
   "cell_type": "markdown",
   "metadata": {},
   "source": [
    "For our upcoming bid to Company X, our submission must include machine learning in order to achieve a high level of competitiveness against other bidders.\n",
    "\n",
    "To demonstrate the power of machine learning, I have utilized the Madelon dataset. This dataset is highly non-linear, contains 500 features, and predicts a binary classification target. Based on these characteristics, I have selected two models that traditionally perform well: Logistic Regression (LR) and K Nearest Neighbors (KNN).\n",
    "\n",
    "The work contained within this report outlines three different approaches (see summary below), each with selected parameters based on machine learning.\n",
    "\n",
    "1. **LR using Standard Scaler** with little regularization, utilizing l2, known as the ridge model\n",
    "1. **LR using Standard Scaler** with regularization (default gamma of 1), utilizing l1, known as the lasso model\n",
    "1. **LR and KNN using SelectKBest** with regularization, LR utilizing l2, and a grid search to cross validate results\n",
    "\n",
    "The conclusion of the work herein has confirmed the assertion that machine learning is necessary in order to present a competitive bid. Our model KNN using SelectKBest has selected 5 salient features (out of 500) to predict our target with an acceptable test score (>85%). The ability to select features through machine learning will allow our bid to seriously compete on price and allow for a shortened timeline, leaving a positive impression on our potential client and the ability to sell additional work in the future. "
   ]
  }
 ],
 "metadata": {
  "kernelspec": {
   "display_name": "Python [conda root]",
   "language": "python",
   "name": "conda-root-py"
  },
  "language_info": {
   "codemirror_mode": {
    "name": "ipython",
    "version": 2
   },
   "file_extension": ".py",
   "mimetype": "text/x-python",
   "name": "python",
   "nbconvert_exporter": "python",
   "pygments_lexer": "ipython2",
   "version": "2.7.12"
  }
 },
 "nbformat": 4,
 "nbformat_minor": 1
}
